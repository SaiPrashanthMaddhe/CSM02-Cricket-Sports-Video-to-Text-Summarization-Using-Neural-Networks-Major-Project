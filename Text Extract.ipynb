{
 "cells": [
  {
   "cell_type": "code",
   "execution_count": 1,
   "metadata": {},
   "outputs": [],
   "source": [
    "from PIL import Image\n",
    "import pytesseract\n",
    "import os"
   ]
  },
  {
   "cell_type": "code",
   "execution_count": 2,
   "metadata": {},
   "outputs": [],
   "source": [
    "DATADIR = \"C:\\\\Users\\\\praneeth\\\\OneDrive\\\\Desktop\\\\major project\\\\frame\\\\\""
   ]
  },
  {
   "cell_type": "code",
   "execution_count": 5,
   "metadata": {},
   "outputs": [],
   "source": [
    "im = \"C:\\\\Users\\\\praneeth\\\\OneDrive\\\\Desktop\\\\major project\\\\frame\\\\data\\\\frame0Cropped.bmp\"\n",
    "frmes = \"C:\\\\Users\\\\praneeth\\\\OneDrive\\\\Desktop\\\\major project\\\\frame\\\\Final Frames\\\\\"\n",
    "overframes = \"C:\\\\Users\\\\praneeth\\\\OneDrive\\\\Desktop\\\\major project\\\\frame\\\\grayImages\\\\\"\n",
    "listings = os.listdir(frmes)\n",
    "listings2 = os.listdir(overframes)\n",
    "count = 0\n",
    "f1 = open(\"C:\\\\Users\\\\praneeth\\\\OneDrive\\\\Desktop\\\\major project\\\\frame\\\\h1.txt\", \"w\")"
   ]
  },
  {
   "cell_type": "code",
   "execution_count": 16,
   "metadata": {},
   "outputs": [],
   "source": [
    "pytesseract.pytesseract.tesseract_cmd = r'C:\\Program Files\\Tesseract-OCR\\tesseract.exe'\n",
    "for item in listings2:\n",
    "    fullpath = os.path.join(frmes, item)\n",
    "    fullpath2 = os.path.join(overframes, item)\n",
    "    count += 1\n",
    "    im1= Image.open(fullpath)\n",
    "    if os.path.isfile(fullpath):\n",
    "        s = str(count)\n",
    "        text = pytesseract.image_to_string(im1, lang = 'eng')\n",
    "        f1.write(s)\n",
    "        f1.write(\"\\n\")\n",
    "        f1.writelines(text)\n",
    "        f1.write(\"\\n\")\n"
   ]
  },
  {
   "cell_type": "code",
   "execution_count": null,
   "metadata": {},
   "outputs": [],
   "source": []
  },
  {
   "cell_type": "code",
   "execution_count": null,
   "metadata": {},
   "outputs": [],
   "source": []
  },
  {
   "cell_type": "code",
   "execution_count": null,
   "metadata": {},
   "outputs": [],
   "source": []
  }
 ],
 "metadata": {
  "kernelspec": {
   "display_name": "Python 3",
   "language": "python",
   "name": "python3"
  },
  "language_info": {
   "codemirror_mode": {
    "name": "ipython",
    "version": 3
   },
   "file_extension": ".py",
   "mimetype": "text/x-python",
   "name": "python",
   "nbconvert_exporter": "python",
   "pygments_lexer": "ipython3",
   "version": "3.12.1"
  }
 },
 "nbformat": 4,
 "nbformat_minor": 2
}
