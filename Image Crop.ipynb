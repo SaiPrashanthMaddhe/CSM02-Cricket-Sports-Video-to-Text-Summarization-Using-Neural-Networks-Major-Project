{
 "cells": [
  {
   "cell_type": "code",
   "execution_count": 2,
   "metadata": {},
   "outputs": [],
   "source": [
    "import cv2 \n",
    "import os\n",
    "from PIL import Image\n",
    "import glob"
   ]
  },
  {
   "cell_type": "code",
   "execution_count": 3,
   "metadata": {},
   "outputs": [],
   "source": [
    "path1 = \"C:\\\\Users\\\\praneeth\\\\OneDrive\\\\Desktop\\\\major project\\\\frame\\\\FRAMES\\\\\"\n",
    "path2 = \"C:\\\\Users\\\\praneeth\\\\OneDrive\\\\Desktop\\\\major project\\\\frame\\\\Final Frames\\\\\"\n",
    "path3= \"C:\\\\Users\\\\praneeth\\\\OneDrive\\\\Desktop\\\\major project\\\\frame\\\\grayImages\\\\\"\n",
    "listings2 = os.listdir(path2)"
   ]
  },
  {
   "cell_type": "code",
   "execution_count": 5,
   "metadata": {},
   "outputs": [],
   "source": [
    "from PIL import Image\n",
    "import os.path, sys\n",
    "\n",
    "listing = os.listdir(path1)  \n",
    "path1 = \"C:\\\\Users\\\\praneeth\\\\OneDrive\\\\Desktop\\\\major project\\\\frame\\\\FRAMES\\\\\"\n",
    "def crop():\n",
    "    for item in listing:\n",
    "        fullpath = os.path.join(path1,item) \n",
    "        newpath = os.path.join(path2, item)\n",
    "        if os.path.isfile(fullpath):\n",
    "            im = Image.open(fullpath)\n",
    "            imCrop = im.crop((100, 625, 1200, 720))\n",
    "            imCrop.save(newpath  , \"BMP\", quality=100)\n",
    "            \n",
    "            \n",
    "\n",
    "\n",
    "crop()"
   ]
  },
  {
   "cell_type": "code",
   "execution_count": null,
   "metadata": {},
   "outputs": [],
   "source": [
    "\n",
    "#For conversion of our image frame to gray-scale\n",
    "for item in listings2:\n",
    "    fullpath1 = os.path.join(path2, item)\n",
    "    newpath1 = os.path.join(path3, item)\n",
    "    if os.path.isfile(fullpath1):\n",
    "        image = cv2.imread(fullpath1)\n",
    "        grayimage = cv2.cvtColor(image, cv2.COLOR_RGB2GRAY)\n",
    "        cv2.imshow('grayimage', grayimage)\n",
    "        cv2.imwrite(newpath1, grayimage)"
   ]
  }
 ],
 "metadata": {
  "kernelspec": {
   "display_name": "Python 3",
   "language": "python",
   "name": "python3"
  },
  "language_info": {
   "codemirror_mode": {
    "name": "ipython",
    "version": 3
   },
   "file_extension": ".py",
   "mimetype": "text/x-python",
   "name": "python",
   "nbconvert_exporter": "python",
   "pygments_lexer": "ipython3",
   "version": "3.12.1"
  }
 },
 "nbformat": 4,
 "nbformat_minor": 2
}
